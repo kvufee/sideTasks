{
 "cells": [
  {
   "cell_type": "code",
   "execution_count": 98,
   "id": "cae635cd",
   "metadata": {
    "tags": []
   },
   "outputs": [],
   "source": [
    "import warnings\n",
    "\n",
    "import pandas as pd\n",
    "import numpy as np\n",
    "import scipy as sp\n",
    "import seaborn as sns\n",
    "import matplotlib.pyplot as plt\n",
    "\n",
    "warnings.simplefilter('ignore')"
   ]
  },
  {
   "cell_type": "markdown",
   "id": "9fb9e166-1f15-408b-ba78-faffce722a8b",
   "metadata": {},
   "source": [
    "# Reading Dataset"
   ]
  },
  {
   "cell_type": "code",
   "execution_count": 102,
   "id": "1c79970b",
   "metadata": {
    "tags": []
   },
   "outputs": [],
   "source": [
    "data = pd.read_csv(\"Sleep_Efficiency.csv\")"
   ]
  },
  {
   "cell_type": "markdown",
   "id": "b79286f8-f878-4347-8478-43bf61f323ac",
   "metadata": {},
   "source": [
    "# Transforming data to ease work with it"
   ]
  },
  {
   "cell_type": "code",
   "execution_count": 103,
   "id": "dae18fd1-310f-4116-bc85-cbad2153f7e4",
   "metadata": {
    "tags": []
   },
   "outputs": [
    {
     "data": {
      "text/html": [
       "<div>\n",
       "<style scoped>\n",
       "    .dataframe tbody tr th:only-of-type {\n",
       "        vertical-align: middle;\n",
       "    }\n",
       "\n",
       "    .dataframe tbody tr th {\n",
       "        vertical-align: top;\n",
       "    }\n",
       "\n",
       "    .dataframe thead th {\n",
       "        text-align: right;\n",
       "    }\n",
       "</style>\n",
       "<table border=\"1\" class=\"dataframe\">\n",
       "  <thead>\n",
       "    <tr style=\"text-align: right;\">\n",
       "      <th></th>\n",
       "      <th>Age</th>\n",
       "      <th>Gender</th>\n",
       "      <th>Sleep duration</th>\n",
       "      <th>Sleep efficiency</th>\n",
       "      <th>REM sleep percentage</th>\n",
       "      <th>Deep sleep percentage</th>\n",
       "      <th>Light sleep percentage</th>\n",
       "      <th>Awakenings</th>\n",
       "      <th>Caffeine consumption</th>\n",
       "      <th>Alcohol consumption</th>\n",
       "      <th>Smoking status</th>\n",
       "      <th>Exercise frequency</th>\n",
       "    </tr>\n",
       "  </thead>\n",
       "  <tbody>\n",
       "    <tr>\n",
       "      <th>0</th>\n",
       "      <td>65.0</td>\n",
       "      <td>0.0</td>\n",
       "      <td>6.0</td>\n",
       "      <td>0.88</td>\n",
       "      <td>18.0</td>\n",
       "      <td>70.0</td>\n",
       "      <td>12.0</td>\n",
       "      <td>0.0</td>\n",
       "      <td>0.0</td>\n",
       "      <td>0.0</td>\n",
       "      <td>1.0</td>\n",
       "      <td>3.0</td>\n",
       "    </tr>\n",
       "    <tr>\n",
       "      <th>1</th>\n",
       "      <td>69.0</td>\n",
       "      <td>1.0</td>\n",
       "      <td>7.0</td>\n",
       "      <td>0.66</td>\n",
       "      <td>19.0</td>\n",
       "      <td>28.0</td>\n",
       "      <td>53.0</td>\n",
       "      <td>3.0</td>\n",
       "      <td>0.0</td>\n",
       "      <td>3.0</td>\n",
       "      <td>1.0</td>\n",
       "      <td>3.0</td>\n",
       "    </tr>\n",
       "    <tr>\n",
       "      <th>2</th>\n",
       "      <td>40.0</td>\n",
       "      <td>0.0</td>\n",
       "      <td>8.0</td>\n",
       "      <td>0.89</td>\n",
       "      <td>20.0</td>\n",
       "      <td>70.0</td>\n",
       "      <td>10.0</td>\n",
       "      <td>1.0</td>\n",
       "      <td>0.0</td>\n",
       "      <td>0.0</td>\n",
       "      <td>0.0</td>\n",
       "      <td>3.0</td>\n",
       "    </tr>\n",
       "    <tr>\n",
       "      <th>3</th>\n",
       "      <td>40.0</td>\n",
       "      <td>0.0</td>\n",
       "      <td>6.0</td>\n",
       "      <td>0.51</td>\n",
       "      <td>23.0</td>\n",
       "      <td>25.0</td>\n",
       "      <td>52.0</td>\n",
       "      <td>3.0</td>\n",
       "      <td>50.0</td>\n",
       "      <td>5.0</td>\n",
       "      <td>1.0</td>\n",
       "      <td>1.0</td>\n",
       "    </tr>\n",
       "    <tr>\n",
       "      <th>4</th>\n",
       "      <td>57.0</td>\n",
       "      <td>1.0</td>\n",
       "      <td>8.0</td>\n",
       "      <td>0.76</td>\n",
       "      <td>27.0</td>\n",
       "      <td>55.0</td>\n",
       "      <td>18.0</td>\n",
       "      <td>3.0</td>\n",
       "      <td>0.0</td>\n",
       "      <td>3.0</td>\n",
       "      <td>0.0</td>\n",
       "      <td>3.0</td>\n",
       "    </tr>\n",
       "  </tbody>\n",
       "</table>\n",
       "</div>"
      ],
      "text/plain": [
       "    Age  Gender  Sleep duration  Sleep efficiency  REM sleep percentage  \\\n",
       "0  65.0     0.0             6.0              0.88                  18.0   \n",
       "1  69.0     1.0             7.0              0.66                  19.0   \n",
       "2  40.0     0.0             8.0              0.89                  20.0   \n",
       "3  40.0     0.0             6.0              0.51                  23.0   \n",
       "4  57.0     1.0             8.0              0.76                  27.0   \n",
       "\n",
       "   Deep sleep percentage  Light sleep percentage  Awakenings  \\\n",
       "0                   70.0                    12.0         0.0   \n",
       "1                   28.0                    53.0         3.0   \n",
       "2                   70.0                    10.0         1.0   \n",
       "3                   25.0                    52.0         3.0   \n",
       "4                   55.0                    18.0         3.0   \n",
       "\n",
       "   Caffeine consumption  Alcohol consumption  Smoking status  \\\n",
       "0                   0.0                  0.0             1.0   \n",
       "1                   0.0                  3.0             1.0   \n",
       "2                   0.0                  0.0             0.0   \n",
       "3                  50.0                  5.0             1.0   \n",
       "4                   0.0                  3.0             0.0   \n",
       "\n",
       "   Exercise frequency  \n",
       "0                 3.0  \n",
       "1                 3.0  \n",
       "2                 3.0  \n",
       "3                 1.0  \n",
       "4                 3.0  "
      ]
     },
     "execution_count": 103,
     "metadata": {},
     "output_type": "execute_result"
    }
   ],
   "source": [
    "data = data.drop(['ID', 'Bedtime', 'Wakeup time'], axis = 1)\n",
    "data['Gender'] = data['Gender'].map({'Male': 1, 'Female': 0})\n",
    "data['Smoking status'] = data['Smoking status'].map({'Yes': 1, 'No': 0})\n",
    "data = data.astype('float64')\n",
    "data.head()"
   ]
  },
  {
   "cell_type": "code",
   "execution_count": 104,
   "id": "1fbdd210-7d95-4838-a4cd-1e1d62a2fb9b",
   "metadata": {
    "tags": []
   },
   "outputs": [
    {
     "data": {
      "text/plain": [
       "(452, 12)"
      ]
     },
     "execution_count": 104,
     "metadata": {},
     "output_type": "execute_result"
    }
   ],
   "source": [
    "data.shape"
   ]
  },
  {
   "cell_type": "code",
   "execution_count": 105,
   "id": "a84b06f5-85bc-4cee-aa58-2f5f247d1164",
   "metadata": {
    "tags": []
   },
   "outputs": [
    {
     "name": "stdout",
     "output_type": "stream",
     "text": [
      "<class 'pandas.core.frame.DataFrame'>\n",
      "RangeIndex: 452 entries, 0 to 451\n",
      "Data columns (total 12 columns):\n",
      " #   Column                  Non-Null Count  Dtype  \n",
      "---  ------                  --------------  -----  \n",
      " 0   Age                     452 non-null    float64\n",
      " 1   Gender                  452 non-null    float64\n",
      " 2   Sleep duration          452 non-null    float64\n",
      " 3   Sleep efficiency        452 non-null    float64\n",
      " 4   REM sleep percentage    452 non-null    float64\n",
      " 5   Deep sleep percentage   452 non-null    float64\n",
      " 6   Light sleep percentage  452 non-null    float64\n",
      " 7   Awakenings              432 non-null    float64\n",
      " 8   Caffeine consumption    427 non-null    float64\n",
      " 9   Alcohol consumption     438 non-null    float64\n",
      " 10  Smoking status          452 non-null    float64\n",
      " 11  Exercise frequency      446 non-null    float64\n",
      "dtypes: float64(12)\n",
      "memory usage: 42.5 KB\n"
     ]
    }
   ],
   "source": [
    "data.info()"
   ]
  },
  {
   "cell_type": "code",
   "execution_count": 81,
   "id": "74df6628-c498-425c-8adb-7edcdafe02ff",
   "metadata": {
    "tags": []
   },
   "outputs": [
    {
     "data": {
      "text/plain": [
       "Age                       61\n",
       "Gender                     2\n",
       "Sleep duration             9\n",
       "Sleep efficiency          50\n",
       "REM sleep percentage      13\n",
       "Deep sleep percentage     29\n",
       "Light sleep percentage    29\n",
       "Awakenings                 5\n",
       "Caffeine consumption       6\n",
       "Alcohol consumption        6\n",
       "Smoking status             2\n",
       "Exercise frequency         6\n",
       "dtype: int64"
      ]
     },
     "execution_count": 81,
     "metadata": {},
     "output_type": "execute_result"
    }
   ],
   "source": [
    "data.nunique()"
   ]
  },
  {
   "cell_type": "code",
   "execution_count": 84,
   "id": "f6fb2291-cba8-4df4-9e18-5d732503f1fe",
   "metadata": {
    "tags": []
   },
   "outputs": [],
   "source": [
    "data['Gender'] = data['Gender'].map({'Male': 1, 'Female': 0})\n",
    "data['Smoking status'] = data['Smoking status'].map({'Yes': 1, 'No': 0})"
   ]
  },
  {
   "cell_type": "code",
   "execution_count": null,
   "id": "07d80f19-f05a-4b06-9425-435f4ffb7b7f",
   "metadata": {},
   "outputs": [],
   "source": []
  }
 ],
 "metadata": {
  "kernelspec": {
   "display_name": "Python 3 (ipykernel)",
   "language": "python",
   "name": "python3"
  },
  "language_info": {
   "codemirror_mode": {
    "name": "ipython",
    "version": 3
   },
   "file_extension": ".py",
   "mimetype": "text/x-python",
   "name": "python",
   "nbconvert_exporter": "python",
   "pygments_lexer": "ipython3",
   "version": "3.9.15"
  }
 },
 "nbformat": 4,
 "nbformat_minor": 5
}
