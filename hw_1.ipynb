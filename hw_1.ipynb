{
 "cells": [
  {
   "cell_type": "code",
   "execution_count": 17,
   "id": "e510c048-08d8-487a-8ad6-b191005615f0",
   "metadata": {
    "tags": []
   },
   "outputs": [],
   "source": [
    "import numpy as np\n",
    "from scipy.stats import sem"
   ]
  },
  {
   "cell_type": "code",
   "execution_count": 3,
   "id": "a1f23c83",
   "metadata": {
    "tags": []
   },
   "outputs": [],
   "source": [
    "arr = []\n",
    "for i in range(151):\n",
    "    arr.append(i)"
   ]
  },
  {
   "cell_type": "code",
   "execution_count": 6,
   "id": "fc8f023c-c42d-4bff-a5d9-c8699aedf6be",
   "metadata": {
    "tags": []
   },
   "outputs": [],
   "source": [
    "mean = np.mean(arr)"
   ]
  },
  {
   "cell_type": "code",
   "execution_count": 7,
   "id": "32516379-61f8-4b47-9278-8a43f7487d9a",
   "metadata": {
    "tags": []
   },
   "outputs": [
    {
     "data": {
      "text/plain": [
       "75.0"
      ]
     },
     "execution_count": 7,
     "metadata": {},
     "output_type": "execute_result"
    }
   ],
   "source": [
    "mean"
   ]
  },
  {
   "cell_type": "code",
   "execution_count": 12,
   "id": "a5795614-30fe-420b-bed8-a9f65944802c",
   "metadata": {
    "tags": []
   },
   "outputs": [],
   "source": [
    "z = (150 - 100)/30"
   ]
  },
  {
   "cell_type": "code",
   "execution_count": 13,
   "id": "02be6a79-6734-4024-a350-c1c0a6cc28b2",
   "metadata": {
    "tags": []
   },
   "outputs": [
    {
     "data": {
      "text/plain": [
       "1.6666666666666667"
      ]
     },
     "execution_count": 13,
     "metadata": {},
     "output_type": "execute_result"
    }
   ],
   "source": [
    "z"
   ]
  },
  {
   "cell_type": "code",
   "execution_count": 16,
   "id": "59edd8fb-8275-40f2-b00f-83a9ce795a8c",
   "metadata": {
    "tags": []
   },
   "outputs": [
    {
     "data": {
      "text/plain": [
       "0.04749999999999999"
      ]
     },
     "execution_count": 16,
     "metadata": {},
     "output_type": "execute_result"
    }
   ],
   "source": [
    "ans = 0.475 == 4.75%"
   ]
  },
  {
   "cell_type": "code",
   "execution_count": 19,
   "id": "3b64441b-b0a6-4de4-b855-c1f1a4d9b4de",
   "metadata": {
    "tags": []
   },
   "outputs": [],
   "source": [
    "stderr = sem(arr)\n",
    "ans2 = (150 - 100) / (30 / stderr)"
   ]
  },
  {
   "cell_type": "code",
   "execution_count": 21,
   "id": "34b5565e-9732-444b-a070-7717d3d884d8",
   "metadata": {
    "tags": []
   },
   "outputs": [
    {
     "data": {
      "text/plain": [
       "5.931710140017397"
      ]
     },
     "execution_count": 21,
     "metadata": {},
     "output_type": "execute_result"
    }
   ],
   "source": [
    "ans2"
   ]
  },
  {
   "cell_type": "code",
   "execution_count": null,
   "id": "4d5a24c6-c5f7-4421-beb3-24a70c4d8db2",
   "metadata": {},
   "outputs": [],
   "source": []
  }
 ],
 "metadata": {
  "kernelspec": {
   "display_name": "Python 3 (ipykernel)",
   "language": "python",
   "name": "python3"
  },
  "language_info": {
   "codemirror_mode": {
    "name": "ipython",
    "version": 3
   },
   "file_extension": ".py",
   "mimetype": "text/x-python",
   "name": "python",
   "nbconvert_exporter": "python",
   "pygments_lexer": "ipython3",
   "version": "3.9.15"
  }
 },
 "nbformat": 4,
 "nbformat_minor": 5
}
