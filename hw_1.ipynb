{
 "cells": [
  {
   "cell_type": "code",
   "execution_count": 15,
   "id": "e510c048-08d8-487a-8ad6-b191005615f0",
   "metadata": {
    "tags": []
   },
   "outputs": [],
   "source": [
    "import numpy as np\n",
    "from scipy.stats import sem, norm"
   ]
  },
  {
   "cell_type": "code",
   "execution_count": null,
   "id": "34b5565e-9732-444b-a070-7717d3d884d8",
   "metadata": {
    "tags": []
   },
   "outputs": [
    {
     "data": {
      "text/plain": [
       "5.931710140017397"
      ]
     },
     "execution_count": 21,
     "metadata": {},
     "output_type": "execute_result"
    }
   ],
   "source": [
    "ans2"
   ]
  },
  {
   "cell_type": "code",
   "execution_count": 4,
   "id": "4d5a24c6-c5f7-4421-beb3-24a70c4d8db2",
   "metadata": {},
   "outputs": [
    {
     "data": {
      "text/plain": [
       "0.9522096477271853"
      ]
     },
     "execution_count": 4,
     "metadata": {},
     "output_type": "execute_result"
    }
   ],
   "source": [
    "norm.cdf(150, loc = 100, scale = 30)"
   ]
  },
  {
   "cell_type": "code",
   "execution_count": 11,
   "id": "7c1178e6-b659-48b3-871d-4ccd5ebd1ed0",
   "metadata": {
    "tags": []
   },
   "outputs": [
    {
     "data": {
      "text/plain": [
       "0.047790352272814696"
      ]
     },
     "execution_count": 11,
     "metadata": {},
     "output_type": "execute_result"
    }
   ],
   "source": [
    "1 - norm.cdf(150, loc = 100, scale = 30)"
   ]
  },
  {
   "cell_type": "markdown",
   "id": "38fd5080-1e34-4e7d-a38e-b58b36f4a971",
   "metadata": {},
   "source": [
    "# ans 1: 4.7%"
   ]
  },
  {
   "cell_type": "code",
   "execution_count": 17,
   "id": "64942824-986e-43fb-b88c-f8d7c5301070",
   "metadata": {
    "tags": []
   },
   "outputs": [
    {
     "name": "stderr",
     "output_type": "stream",
     "text": [
      "/home/wibbleydock/.conda/envs/myenv/lib/python3.9/site-packages/numpy/core/_methods.py:265: RuntimeWarning: Degrees of freedom <= 0 for slice\n",
      "  ret = _var(a, axis=axis, dtype=dtype, out=out, ddof=ddof,\n",
      "/home/wibbleydock/.conda/envs/myenv/lib/python3.9/site-packages/numpy/core/_methods.py:257: RuntimeWarning: invalid value encountered in double_scalars\n",
      "  ret = ret.dtype.type(ret / rcount)\n"
     ]
    },
    {
     "data": {
      "text/plain": [
       "nan"
      ]
     },
     "execution_count": 17,
     "metadata": {},
     "output_type": "execute_result"
    }
   ],
   "source": [
    "sem(150)"
   ]
  },
  {
   "cell_type": "markdown",
   "id": "2a54b5d3-fa34-422f-aa6a-e8a8e34d31a1",
   "metadata": {},
   "source": [
    "# ans 3: (-1; 1)"
   ]
  },
  {
   "cell_type": "markdown",
   "id": "74146973-d1a6-40be-ac35-ba83163eb059",
   "metadata": {},
   "source": [
    "# ans 4: правило двух сигм показывает, что случайная величина отклонится от среднего не более, чем на 2 среднеквадратических отклонения"
   ]
  },
  {
   "cell_type": "markdown",
   "id": "4d96ff4d-e829-4cc6-822a-e5d3b83062cf",
   "metadata": {},
   "source": [
    "# ans 5: -inf = 0, +inf = 1"
   ]
  },
  {
   "cell_type": "markdown",
   "id": "9915fcd7-0c6e-469b-9ed1-d97b9eb4e30a",
   "metadata": {},
   "source": [
    "# ans 6: -inf = 0, +inf = 0"
   ]
  },
  {
   "cell_type": "code",
   "execution_count": null,
   "id": "417e1b35-182f-48e5-a79b-d69fe84b50e5",
   "metadata": {},
   "outputs": [],
   "source": []
  }
 ],
 "metadata": {
  "kernelspec": {
   "display_name": "Python 3 (ipykernel)",
   "language": "python",
   "name": "python3"
  },
  "language_info": {
   "codemirror_mode": {
    "name": "ipython",
    "version": 3
   },
   "file_extension": ".py",
   "mimetype": "text/x-python",
   "name": "python",
   "nbconvert_exporter": "python",
   "pygments_lexer": "ipython3",
   "version": "3.9.15"
  }
 },
 "nbformat": 4,
 "nbformat_minor": 5
}
