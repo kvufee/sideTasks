{
 "cells": [
  {
   "cell_type": "code",
   "execution_count": null,
   "id": "e510c048-08d8-487a-8ad6-b191005615f0",
   "metadata": {
    "tags": []
   },
   "outputs": [],
   "source": [
    "import numpy as np\n",
    "from scipy.stats import sem, norm"
   ]
  },
  {
   "cell_type": "code",
   "execution_count": null,
   "id": "3b64441b-b0a6-4de4-b855-c1f1a4d9b4de",
   "metadata": {
    "tags": []
   },
   "outputs": [],
   "source": [
    "stderr = sem(arr)\n",
    "ans2 = (150 - 100) / (30 / stderr)"
   ]
  },
  {
   "cell_type": "code",
   "execution_count": null,
   "id": "34b5565e-9732-444b-a070-7717d3d884d8",
   "metadata": {
    "tags": []
   },
   "outputs": [
    {
     "data": {
      "text/plain": [
       "5.931710140017397"
      ]
     },
     "execution_count": 21,
     "metadata": {},
     "output_type": "execute_result"
    }
   ],
   "source": [
    "ans2"
   ]
  },
  {
   "cell_type": "code",
   "execution_count": 4,
   "id": "4d5a24c6-c5f7-4421-beb3-24a70c4d8db2",
   "metadata": {},
   "outputs": [
    {
     "data": {
      "text/plain": [
       "0.9522096477271853"
      ]
     },
     "execution_count": 4,
     "metadata": {},
     "output_type": "execute_result"
    }
   ],
   "source": [
    "norm.cdf(150, loc = 100, scale = 30)"
   ]
  },
  {
   "cell_type": "code",
   "execution_count": 11,
   "id": "7c1178e6-b659-48b3-871d-4ccd5ebd1ed0",
   "metadata": {
    "tags": []
   },
   "outputs": [
    {
     "data": {
      "text/plain": [
       "0.047790352272814696"
      ]
     },
     "execution_count": 11,
     "metadata": {},
     "output_type": "execute_result"
    }
   ],
   "source": [
    "1 - norm.cdf(150, loc = 100, scale = 30)"
   ]
  },
  {
   "cell_type": "markdown",
   "id": "38fd5080-1e34-4e7d-a38e-b58b36f4a971",
   "metadata": {},
   "source": [
    "# ans 1: 4.7%"
   ]
  },
  {
   "cell_type": "code",
   "execution_count": null,
   "id": "64942824-986e-43fb-b88c-f8d7c5301070",
   "metadata": {},
   "outputs": [],
   "source": []
  },
  {
   "cell_type": "markdown",
   "id": "2a54b5d3-fa34-422f-aa6a-e8a8e34d31a1",
   "metadata": {},
   "source": [
    "# ans 3: (-1; 1)"
   ]
  },
  {
   "cell_type": "markdown",
   "id": "74146973-d1a6-40be-ac35-ba83163eb059",
   "metadata": {},
   "source": [
    "# ans 4: правило двух сигм показывает, что случайная величина отклонится от среднего не более, чем на 2 среднеквадратических отклонения"
   ]
  },
  {
   "cell_type": "markdown",
   "id": "4d96ff4d-e829-4cc6-822a-e5d3b83062cf",
   "metadata": {},
   "source": [
    "# ans 5: "
   ]
  },
  {
   "cell_type": "code",
   "execution_count": null,
   "id": "630e6eec-c10c-4e1e-a430-35ca17f5a448",
   "metadata": {},
   "outputs": [],
   "source": []
  }
 ],
 "metadata": {
  "kernelspec": {
   "display_name": "Python 3 (ipykernel)",
   "language": "python",
   "name": "python3"
  },
  "language_info": {
   "codemirror_mode": {
    "name": "ipython",
    "version": 3
   },
   "file_extension": ".py",
   "mimetype": "text/x-python",
   "name": "python",
   "nbconvert_exporter": "python",
   "pygments_lexer": "ipython3",
   "version": "3.9.15"
  }
 },
 "nbformat": 4,
 "nbformat_minor": 5
}
